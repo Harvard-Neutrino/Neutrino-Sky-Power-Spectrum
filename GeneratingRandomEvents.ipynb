{
 "cells": [
  {
   "cell_type": "markdown",
   "id": "9ca63c0d",
   "metadata": {},
   "source": [
    "# Generating Random Events from a Distribution "
   ]
  },
  {
   "cell_type": "markdown",
   "id": "85cbdbb6",
   "metadata": {},
   "source": [
    "## Importing packages "
   ]
  },
  {
   "cell_type": "code",
   "execution_count": 1,
   "id": "c5bf5caf",
   "metadata": {},
   "outputs": [],
   "source": [
    "import numpy as np\n",
    "import matplotlib as mpl\n",
    "import matplotlib.pyplot as plt #plotting package \n",
    "import scipy.stats as stats #statistical distributions\n",
    "plt.style.use(r\"C:\\Users\\Christian\\Documents\\Neutrinos\\Neutrino-Sky-Power-Spectrum\\paper.mplstype\") #formatting for plots"
   ]
  },
  {
   "cell_type": "markdown",
   "id": "a067a9f9",
   "metadata": {},
   "source": [
    "## Overview"
   ]
  },
  {
   "cell_type": "markdown",
   "id": "ee7c625f",
   "metadata": {},
   "source": [
    "Our objective will be to generate random events according to the following power-spectrum distribution: \n",
    "\n",
    "$$ \\rho_{\\rm neutrino}(\\vec{\\theta},E_{\\nu}) = \\Omega(\\vec{\\theta})\\phi(E_{\\nu}),$$\n",
    "\n",
    "where $\\phi(E_{\\nu}) \\sim (E/E_c)^-{\\gamma}$ from $E_{\\rm min} = 100 \\rm GeV$ to $E_{\\rm max} = 1 \\rm PeV$ and $\\gamma = 2.5$. \n",
    "\n",
    "We will start by writing code that models the inversion method for generating random events from a probability distribution. Let's say that we have a target probability density function (pdf) over some domain. This distribution is described by a function $f(x)$. From this, we can generate a cumulative distribution function (cdf) described by \n",
    "\n",
    "$$ F(x) = \\int_0^x dx^{\\prime} f(x^{\\prime}),$$\n",
    "\n",
    "that maps \n",
    "\n",
    "$$ F: {\\rm Domain} \\rightarrow [0,1].$$ \n",
    "\n",
    "If we have the inverse of this function, then \n",
    "\n",
    "$$ F^{-1}: [0,1] \\rightarrow {\\rm Domain}.$$\n",
    "\n",
    "We can then generate random events using this function by applying $F^{-1}$ to a uniform distribution over $[0,1]$: \n",
    "\n",
    "$$ F^{-1}(u), u = U(0,1).$$ "
   ]
  },
  {
   "cell_type": "markdown",
   "id": "2326f9f4",
   "metadata": {},
   "source": [
    "### Mini Exercise 1"
   ]
  },
  {
   "cell_type": "markdown",
   "id": "4e02e720",
   "metadata": {},
   "source": [
    "Let's say we start with a uniform distribution: "
   ]
  },
  {
   "cell_type": "code",
   "execution_count": 2,
   "id": "4641dc06",
   "metadata": {
    "scrolled": false
   },
   "outputs": [
    {
     "data": {
      "text/plain": [
       "Text(0, 0.5, 'Number of events')"
      ]
     },
     "execution_count": 2,
     "metadata": {},
     "output_type": "execute_result"
    },
    {
     "data": {
      "image/png": "[encoded data removed]",
      "text/plain": [
       "<Figure size 432x360 with 1 Axes>"
      ]
     },
     "metadata": {
      "needs_background": "light"
     },
     "output_type": "display_data"
    }
   ],
   "source": [
    "U = np.random.rand(500)\n",
    "fig = plt.figure(figsize = (6,5))\n",
    "plt.hist(U,bins = 10,histtype = \"step\")\n",
    "plt.xlabel('x')\n",
    "plt.ylabel(\"Number of events\")"
   ]
  },
  {
   "cell_type": "markdown",
   "id": "b988eda3",
   "metadata": {},
   "source": [
    "Calculate the corresponding cumulative distribution for this, and then find the inverse to generate a set of random events.  "
   ]
  },
  {
   "cell_type": "markdown",
   "id": "c4b2baca",
   "metadata": {},
   "source": [
    "*Solution*:"
   ]
  },
  {
   "cell_type": "code",
   "execution_count": 4,
   "id": "799dbc35",
   "metadata": {},
   "outputs": [
    {
     "data": {
      "text/plain": [
       "Text(0, 0.5, 'Number of events')"
      ]
     },
     "execution_count": 4,
     "metadata": {},
     "output_type": "execute_result"
    },
    {
     "data": {
      "image/png": "[encoded data removed]",
      "text/plain": [
       "<Figure size 432x360 with 1 Axes>"
      ]
     },
     "metadata": {
      "needs_background": "light"
     },
     "output_type": "display_data"
    }
   ],
   "source": [
    "domain = np.random.rand(500)\n",
    "def inverse(x): # inverse function obtained analytically\n",
    "    return x\n",
    "events = inverse(domain)\n",
    "fig2 = plt.figure(figsize = (6,5))\n",
    "plt.hist(events, bins = 10, histtype = \"step\")\n",
    "plt.xlabel(\"x\")\n",
    "plt.ylabel(\"Number of events\")"
   ]
  },
  {
   "cell_type": "markdown",
   "id": "8f77b905",
   "metadata": {},
   "source": [
    "### Mini Exercise 2"
   ]
  },
  {
   "cell_type": "markdown",
   "id": "bccc90f9",
   "metadata": {},
   "source": [
    "Let's look at a uniform distribution in 2 dimensions: "
   ]
  },
  {
   "cell_type": "code",
   "execution_count": 28,
   "id": "084fd046",
   "metadata": {},
   "outputs": [
    {
     "data": {
      "image/png": "[encoded data removed]",
      "text/plain": [
       "<Figure size 432x360 with 2 Axes>"
      ]
     },
     "metadata": {
      "needs_background": "light"
     },
     "output_type": "display_data"
    }
   ],
   "source": [
    "U = np.random.rand(500,2)\n",
    "fig = plt.figure(figsize = (6,5))\n",
    "plt.hist2d(U[:,0],U[:,1])\n",
    "plt.colorbar(label = \"Number of events\")\n",
    "plt.xlabel(\"x\")\n",
    "plt.ylabel(\"y\")\n",
    "plt.show()"
   ]
  },
  {
   "cell_type": "markdown",
   "id": "e198729d",
   "metadata": {},
   "source": [
    "What does the 2d cdf look like for this? Can you make a function that returns a random event with two-coordinates? "
   ]
  },
  {
   "cell_type": "code",
   "execution_count": null,
   "id": "1bdeff21",
   "metadata": {},
   "outputs": [],
   "source": []
  }
 ],
 "metadata": {
  "kernelspec": {
   "display_name": "Python 3 (ipykernel)",
   "language": "python",
   "name": "python3"
  },
  "language_info": {
   "codemirror_mode": {
    "name": "ipython",
    "version": 3
   },
   "file_extension": ".py",
   "mimetype": "text/x-python",
   "name": "python",
   "nbconvert_exporter": "python",
   "pygments_lexer": "ipython3",
   "version": "3.10.4"
  },
  "latex_envs": {
   "LaTeX_envs_menu_present": true,
   "autoclose": false,
   "autocomplete": true,
   "bibliofile": "biblio.bib",
   "cite_by": "apalike",
   "current_citInitial": 1,
   "eqLabelWithNumbers": true,
   "eqNumInitial": 1,
   "hotkeys": {
    "equation": "Ctrl-E",
    "itemize": "Ctrl-I"
   },
   "labels_anchors": false,
   "latex_user_defs": false,
   "report_style_numbering": false,
   "user_envs_cfg": false
  }
 },
 "nbformat": 4,
 "nbformat_minor": 5
}
